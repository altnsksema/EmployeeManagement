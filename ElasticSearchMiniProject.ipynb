{
  "nbformat": 4,
  "nbformat_minor": 0,
  "metadata": {
    "colab": {
      "provenance": []
    },
    "kernelspec": {
      "name": "python3",
      "display_name": "Python 3"
    },
    "language_info": {
      "name": "python"
    }
  },
  "cells": [
    {
      "cell_type": "code",
      "execution_count": null,
      "metadata": {
        "colab": {
          "base_uri": "https://localhost:8080/"
        },
        "id": "v45joMjQvj_X",
        "outputId": "f5d9b7ed-f007-4a88-9863-edb8befd8184"
      },
      "outputs": [
        {
          "output_type": "stream",
          "name": "stdout",
          "text": [
            "Requirement already satisfied: elasticsearch in /usr/local/lib/python3.11/dist-packages (9.0.2)\n",
            "Requirement already satisfied: elastic-transport<9,>=8.15.1 in /usr/local/lib/python3.11/dist-packages (from elasticsearch) (8.17.1)\n",
            "Requirement already satisfied: python-dateutil in /usr/local/lib/python3.11/dist-packages (from elasticsearch) (2.9.0.post0)\n",
            "Requirement already satisfied: typing-extensions in /usr/local/lib/python3.11/dist-packages (from elasticsearch) (4.14.0)\n",
            "Requirement already satisfied: urllib3<3,>=1.26.2 in /usr/local/lib/python3.11/dist-packages (from elastic-transport<9,>=8.15.1->elasticsearch) (2.4.0)\n",
            "Requirement already satisfied: certifi in /usr/local/lib/python3.11/dist-packages (from elastic-transport<9,>=8.15.1->elasticsearch) (2025.6.15)\n",
            "Requirement already satisfied: six>=1.5 in /usr/local/lib/python3.11/dist-packages (from python-dateutil->elasticsearch) (1.17.0)\n"
          ]
        }
      ],
      "source": [
        "!pip install elasticsearch"
      ]
    },
    {
      "cell_type": "code",
      "source": [
        "from elasticsearch import Elasticsearch\n",
        "\n",
        "# Elastic Cloud bağlantısı\n",
        "es = Elasticsearch(\n",
        "    cloud_id=\"user\"\n",
        "    basic_auth=(\"elastic\", \"password\")\n",
        ")\n",
        "\n",
        "# Bağlantı testi\n",
        "print(es.info())\n"
      ],
      "metadata": {
        "colab": {
          "base_uri": "https://localhost:8080/"
        },
        "id": "blGx3P7DvwJn",
        "outputId": "d0536250-ed46-452d-bc94-23dd1f1bb59d"
      },
      "execution_count": null,
      "outputs": [
        {
          "output_type": "stream",
          "name": "stdout",
          "text": [
            "{'name': 'instance-0000000001', 'cluster_name': '520542a7633b48d081d3c3ae54ea556a', 'cluster_uuid': 'x-lLhw3jTPq1nwSqnxNBYg', 'version': {'number': '9.0.3', 'build_flavor': 'default', 'build_type': 'docker', 'build_hash': 'cc7302afc8499e83262ba2ceaa96451681f0609d', 'build_date': '2025-06-18T22:09:56.772581489Z', 'build_snapshot': False, 'lucene_version': '10.1.0', 'minimum_wire_compatibility_version': '8.18.0', 'minimum_index_compatibility_version': '8.0.0'}, 'tagline': 'You Know, for Search'}\n"
          ]
        }
      ]
    },
    {
      "cell_type": "code",
      "source": [
        "employee = {\n",
        "    \"name\": \"Deniz\",\n",
        "    \"departmant\": \"HR\",\n",
        "    \"age\": 34,\n",
        "    \"salary\": 9000\n",
        "    }"
      ],
      "metadata": {
        "id": "FzJB9at8xLzN"
      },
      "execution_count": null,
      "outputs": []
    },
    {
      "cell_type": "code",
      "source": [
        "es.index(index=\"employees\", document=employee)"
      ],
      "metadata": {
        "colab": {
          "base_uri": "https://localhost:8080/"
        },
        "id": "0X_4PYVGxqIa",
        "outputId": "5e60e6a4-1102-4850-e7d4-488de57ec9e3"
      },
      "execution_count": null,
      "outputs": [
        {
          "output_type": "execute_result",
          "data": {
            "text/plain": [
              "ObjectApiResponse({'_index': 'employees', '_id': 'pyDX7pcBBeeb42HlmgRn', '_version': 1, 'result': 'created', '_shards': {'total': 2, 'successful': 2, 'failed': 0}, '_seq_no': 5, '_primary_term': 1})"
            ]
          },
          "metadata": {},
          "execution_count": 10
        }
      ]
    },
    {
      "cell_type": "code",
      "source": [
        "response = es.search(index=\"employees\", query={\"match_all\": {}})"
      ],
      "metadata": {
        "id": "W8b9l6-cxzAA"
      },
      "execution_count": null,
      "outputs": []
    },
    {
      "cell_type": "code",
      "source": [
        "for hit in response[\"hits\"][\"hits\"]:\n",
        "  print(hit[\"_source\"])"
      ],
      "metadata": {
        "colab": {
          "base_uri": "https://localhost:8080/"
        },
        "id": "NYsqudvmyGHv",
        "outputId": "18ed4d6a-6e3d-4aa6-d6c2-52890c9483fe"
      },
      "execution_count": null,
      "outputs": [
        {
          "output_type": "stream",
          "name": "stdout",
          "text": [
            "{'name': 'Sema', 'departmant': 'IT', 'age': 25, 'salary': 35000}\n",
            "{'name': 'Deniz', 'departmant': 'HR', 'age': 34, 'salary': 9000}\n",
            "{'name': 'Ozan', 'departmant': 'IT', 'age': 30, 'salary': 67000}\n",
            "{'name': 'Selin', 'departmant': 'IT', 'age': 22, 'salary': 45000}\n",
            "{'name': 'Taner', 'departmant': 'HR', 'age': 31, 'salary': 46000}\n",
            "{'name': 'Deniz', 'departmant': 'HR', 'age': 34, 'salary': 9000}\n"
          ]
        }
      ]
    },
    {
      "cell_type": "code",
      "source": [
        "def addEmployee (name, departmant, age, salary):\n",
        "  employee={\n",
        "      \"name\": name,\n",
        "      \"departmant\": departmant,\n",
        "      \"age\": age,\n",
        "      \"salary\": salary\n",
        "  }\n",
        "\n",
        "  es.index(index=\"employees\", document=employee)\n",
        "  print(f\"{name} saved successfully!\")"
      ],
      "metadata": {
        "id": "YGgYNLxUzR-Z"
      },
      "execution_count": null,
      "outputs": []
    },
    {
      "cell_type": "code",
      "source": [
        "addEmployee(\"Ozan\", \"IT\", 30, 67000)\n",
        "addEmployee(\"Selin\", \"IT\", 22, 45000)\n",
        "addEmployee(\"Taner\", \"HR\", 31, 46000)"
      ],
      "metadata": {
        "colab": {
          "base_uri": "https://localhost:8080/"
        },
        "id": "K1KTmOFgz4mL",
        "outputId": "be4da257-0364-4c17-ab25-4b5dfda74384"
      },
      "execution_count": null,
      "outputs": [
        {
          "output_type": "stream",
          "name": "stdout",
          "text": [
            "Ozan saved successfully!\n",
            "Selin saved successfully!\n",
            "Taner saved successfully!\n"
          ]
        }
      ]
    },
    {
      "cell_type": "code",
      "source": [
        "def listEmployees():\n",
        "  response = es.search(index=\"employees\", query={\"match_all\": {}})\n",
        "  print(hit[\"_source\"])"
      ],
      "metadata": {
        "id": "_fenR6Db0bHN"
      },
      "execution_count": null,
      "outputs": []
    },
    {
      "cell_type": "code",
      "source": [
        "listEmployees()"
      ],
      "metadata": {
        "colab": {
          "base_uri": "https://localhost:8080/"
        },
        "id": "qEAnqU0c0yr9",
        "outputId": "ff6f0dc9-e016-4596-caa2-86e96af679a3"
      },
      "execution_count": null,
      "outputs": [
        {
          "output_type": "stream",
          "name": "stdout",
          "text": [
            "{'name': 'Deniz', 'departmant': 'HR', 'age': 34, 'salary': 9000}\n"
          ]
        }
      ]
    }
  ]
}